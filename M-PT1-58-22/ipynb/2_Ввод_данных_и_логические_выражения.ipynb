{
 "cells": [
  {
   "cell_type": "markdown",
   "metadata": {
    "id": "C-W_42aKPkwR"
   },
   "source": [
    "# Ввод/вывод данных в Python"
   ]
  },
  {
   "cell_type": "markdown",
   "metadata": {
    "id": "geX9hnTYyVZT"
   },
   "source": [
    "##Теоретическая часть\n",
    "\n",
    "При обучении программированию, часто возникает необходимость осуществлять ввод и вывод данных в терминале."
   ]
  },
  {
   "cell_type": "markdown",
   "metadata": {
    "id": "kQExH1bhyXvz"
   },
   "source": [
    "### Вывод данных в Python\n",
    "\n",
    "Для вывода данных используется функция `print`. \n",
    "`print(objects)` - выводит текстовое представление объектов, разделенных пробелом по умолчанию, в стандартный поток stdout.\n",
    "\n",
    "Для того, чтобы обеспечить гибкость вывода, в фукнкцию `print` можно передать некоторые дополнительные параметры:\n",
    "- `sep` - позволяет указать разделитель между объектами. По умолчанию равняется `' '`.\n",
    "- `end` - позволяет указать символ, атоматически подставляемый в конец напечатанного текста. По умолчанию равняется `\\n`.\n",
    "- `file` - позволяет указать, куда будет выводиться текст. По умолчанию равняется `sys.stdout`.\n",
    "\n",
    "Кроме того, у нас есть возможность использовать строковые методы форматирования, но о них мы поговорим несколько позже, когда будем рассматривать строки.\n",
    "\n"
   ]
  },
  {
   "cell_type": "markdown",
   "metadata": {
    "id": "UPlKmxJG3UYM"
   },
   "source": [
    "### Ввод данных в Python\n",
    "\n",
    "Для ввода данных из консоли используется функция input().\n",
    "\n",
    "`input([invite_string])` - в интерактивном режиме происходит остановка выполнения программы и ожидается ввод пользователя. При указании `invite_string` пользователю будет выведено указанное сообщение. \n",
    "\n",
    "В указанную переменную будет помещена строка с данными, введенными пользователем. Если нам необходимо получить данные типа, отличного от строки, мы должны сделать явное преобразование типа.\n",
    "\n"
   ]
  },
  {
   "cell_type": "markdown",
   "metadata": {
    "id": "5su41237-Cts"
   },
   "source": [
    "## Code Snippets"
   ]
  },
  {
   "cell_type": "code",
   "execution_count": null,
   "metadata": {
    "colab": {
     "base_uri": "https://localhost:8080/"
    },
    "executionInfo": {
     "elapsed": 8,
     "status": "ok",
     "timestamp": 1661778514387,
     "user": {
      "displayName": "Анна Ширневич",
      "userId": "18387071435715685551"
     },
     "user_tz": -180
    },
    "id": "yazbEk_q-Evc",
    "outputId": "10b25446-8b9f-4315-80fc-0b307c3825a4"
   },
   "outputs": [
    {
     "name": "stdout",
     "output_type": "stream",
     "text": [
      "42\n"
     ]
    }
   ],
   "source": [
    "# Печать объекта.\n",
    "print(42)"
   ]
  },
  {
   "cell_type": "code",
   "execution_count": null,
   "metadata": {
    "id": "ZxjrMGQJ-LxE"
   },
   "outputs": [],
   "source": [
    "# Печать нескольких переданных объектов.\n",
    "print(42, 24, 0, 17)"
   ]
  },
  {
   "cell_type": "code",
   "execution_count": null,
   "metadata": {
    "id": "CWME39nL-TH0"
   },
   "outputs": [],
   "source": [
    "# Указание разделителя, отличного от значения по умолчанию.\n",
    "print(42, 24, 0, 17, sep='^')"
   ]
  },
  {
   "cell_type": "code",
   "execution_count": null,
   "metadata": {
    "id": "7k3aGAeQ-sbk"
   },
   "outputs": [],
   "source": [
    "# Указание завершающего символа.\n",
    "print(42, 24, 0, 17, end='&')\n",
    "print(42)"
   ]
  },
  {
   "cell_type": "code",
   "execution_count": null,
   "metadata": {
    "id": "ulBB5HMP-4Vk"
   },
   "outputs": [],
   "source": [
    "# Ввод значения с консоли.\n",
    "val = input()\n",
    "print(val, type(val))"
   ]
  },
  {
   "cell_type": "code",
   "execution_count": null,
   "metadata": {
    "id": "lAnjwte5-9Rr"
   },
   "outputs": [],
   "source": [
    "# Приветственная строка, явное преобразование типа.\n",
    "val = int(input('Invite string: '))\n",
    "print(val, type(val))"
   ]
  },
  {
   "cell_type": "markdown",
   "metadata": {
    "id": "vOgZjxzN9Nc1"
   },
   "source": [
    "## Задача для закреплении на занятии\n",
    "\n",
    "Запросить у пользователя три числа. Сложите первое и второе число. Вычтите от второго третье. Выведите произведение полученных значений."
   ]
  },
  {
   "cell_type": "markdown",
   "metadata": {
    "id": "WOQtFDulP1ip"
   },
   "source": [
    "# Условные операторы и ветвление. Логические выражения\n",
    "\n"
   ]
  },
  {
   "cell_type": "markdown",
   "metadata": {
    "id": "D-CyGzNyCbY1"
   },
   "source": [
    "## Теоретическая часть\n",
    "\n",
    "Ход выполнения программы называется линейным, если выражения выполняются друг за другом в строго определенном порядке. \n",
    "\n",
    "К сожалению, часто этого не достаточно. В таких случаях используются условные операторы. \n",
    "\n",
    "```python\n",
    "if condition:\n",
    "  # действия, выполняемые при истинности условия condition\n",
    "  pass\n",
    "elif other_condition:\n",
    "  # действия, выполняемые при истинности other_condition\n",
    "  pass\n",
    "else:\n",
    "  # действия, выполняемые во всех остальных случаях\n",
    "  pass\n",
    "```\n",
    "\n",
    "### Вложенные условия\n",
    "\n",
    "Блоки условного оператора могут быть вложены друг в друга. Иногда это необходимо, однако стоит учитывать, что большое количество вложенных условных операторов увеличивает цикломатическую сложность программы. \n",
    "\n"
   ]
  },
  {
   "cell_type": "markdown",
   "metadata": {
    "id": "DDukCwybFwYV"
   },
   "source": [
    "### Условия. Операторы сравнения\n",
    "\n",
    "Условия могут формироваться одним из следующих способов:\n",
    "- Любой объект в Python может быть условием. Объект встроенного типа считается ложным, если он равен нулевому числу (любого типа) или пустой коллекции. Все остальные объекты считаются истиными. \n",
    "- Операторы сравнения формируют условия: \n",
    "1. `a == b` - равенство значений объектов. \n",
    "2. `a != b` -  неравенство значений объектов.\n",
    "3. `a < b` - первый объект меньше второго. \n",
    "4. `a > b` - первый объект больше второго.\n",
    "5. `a <= b` - первый объект меньше либо равен второму.\n",
    "6. `a >= b` - первый объект больше либо равен второму. \n",
    "- Составные условия.\n",
    "- Другие инструкции, которые возвращают логическое значение или любой другой объект (см. первый пункт).\n",
    "\n",
    "\n",
    "\n",
    "\n",
    "\n"
   ]
  },
  {
   "cell_type": "markdown",
   "metadata": {
    "id": "RawWGESoGEMs"
   },
   "source": [
    "### Составные условия. Логические операторы\n",
    "\n",
    "Python поддерживает набор логических операторов:\n",
    "- `a in b` - логический оператор вхождения.\n",
    "- `not a` - отрицание. \n",
    "- `a and b` - логическое И.\n",
    "- `a or b` - логическое ИЛИ.\n",
    "\n",
    "В качестве операндов для логических операторов могут присутствовать другие условия, в результате чего получаются составные условия - состоящие из комбинации нескольких. \n",
    "\n",
    "#### Ленивые вычисления в Python\n",
    "\n",
    "Операторы `and` и `or` поддерживают ленивые вычисления. Идея заключается в том, что если нам заранее известен результат логического выражения, у нас нет необходимости вычислять все его операнды. \n",
    "\n",
    "Для `and` вычисления остановятся, когда будет встречен первый ложный элемент.\n",
    "\n",
    "Для `or` вычисления остановятся, когда будет встречен первый истинный элемент.\n",
    "\n",
    "Логические операторы могут быть скомбинированы в сложное условие и вычислено в соответствии с приоритетом операторов:\n",
    "```python\n",
    "if condition1 and condition2 or condition3:\n",
    "  pass\n",
    "```\n",
    "\n",
    "#### Значения, возвращаемые логическими операторами and и or\n",
    "\n",
    "В Python and и or возвращают не True или False, а один из своих операндов(благодаря тому, что любой объект может быть оценен как истина или ложь).\n",
    "\n",
    "|Оператор|Возвращаемое в случае истинности значение|Возвращаемое в случае ложности|\n",
    "|-|-|-|\n",
    "|`or`|первый истинный операнд|последний ложный операнд(последний операнд)|\n",
    "|`and`|первый ложный операнд|последний истинный операнд (последний операнд)|"
   ]
  },
  {
   "cell_type": "markdown",
   "metadata": {
    "id": "OXz5XFADGJdt"
   },
   "source": [
    "### Тернарный условный оператор\n",
    "\n",
    "В Python существует короткая форма записи условного оператора: тернарный оператор. Он может быть использован внутри выражения например, при присвоении переменной. \n",
    "```python\n",
    "a = true_value if condition else false_value\n",
    "```\n",
    "В таком случае, при выполнении условия `condition` в переменную a будет присвоено указанное значение `true_value` а в случае его ложности, `false_value`. \n"
   ]
  },
  {
   "cell_type": "markdown",
   "metadata": {
    "id": "U8TGPrv5CeCU"
   },
   "source": [
    "## Code Snippets"
   ]
  },
  {
   "cell_type": "markdown",
   "metadata": {
    "id": "7Byfg830eywg"
   },
   "source": [
    "### Условные операторы"
   ]
  },
  {
   "cell_type": "code",
   "execution_count": null,
   "metadata": {
    "id": "m67AHXOZh9SJ"
   },
   "outputs": [],
   "source": [
    "# Условный оператор с оператором сравнения\n",
    "a = 0\n",
    "b = 12\n",
    "if a > b:\n",
    "  print('greater')\n",
    "else:\n",
    "  print('not greater')"
   ]
  },
  {
   "cell_type": "code",
   "execution_count": null,
   "metadata": {
    "id": "4DC07yNDimaH"
   },
   "outputs": [],
   "source": [
    "# Объекты могут также быть оценены как истинные или ложные\n",
    "a = 0\n",
    "if a:\n",
    "  print('yes')\n",
    "else: \n",
    "  print('no')"
   ]
  },
  {
   "cell_type": "code",
   "execution_count": null,
   "metadata": {
    "id": "s5CvvW8xigQQ"
   },
   "outputs": [],
   "source": [
    "# Истинными являются все ненулевые объекты и непустые коллекции.\n",
    "a = 21\n",
    "if a:\n",
    "  print('yes')\n",
    "else:\n",
    "  print('no')"
   ]
  },
  {
   "cell_type": "code",
   "execution_count": null,
   "metadata": {
    "id": "UvqWbUwAjd7Y"
   },
   "outputs": [],
   "source": [
    "# Пример составного условия. Ищем положительное нечетное число.\n",
    "num = int(input('Введите число: '))\n",
    "if num > 0 and num % 2:\n",
    "  print('yes')\n",
    "else:\n",
    "  print('no')"
   ]
  },
  {
   "cell_type": "code",
   "execution_count": null,
   "metadata": {
    "id": "QLZx_Q34kHUB"
   },
   "outputs": [],
   "source": [
    "# То же самое через вложенные условия.\n",
    "# Фактически, сейчас мы реализуем условие and через вложенные условия.\n",
    "num = int(input('Введите число: '))\n",
    "if num > 0 \n",
    "  if num % 2:\n",
    "    print('yes')\n",
    "  else:\n",
    "    print('no')\n",
    "else:\n",
    "  print('no')"
   ]
  },
  {
   "cell_type": "code",
   "execution_count": null,
   "metadata": {
    "id": "-m8NU85nkiWA"
   },
   "outputs": [],
   "source": [
    "# В Python нет оператора множественного выбора, но похожее поведение эмулируется\n",
    "# с помощью конструкции elif.\n",
    "a = int(input('Введите число: '))\n",
    "\n",
    "if a > 0:\n",
    "  print('> 0')\n",
    "elif a < 0:\n",
    "  print('< 0')\n",
    "else:\n",
    "  print(' == 0')"
   ]
  },
  {
   "cell_type": "markdown",
   "metadata": {
    "id": "-U8osIo4e0-X"
   },
   "source": [
    "### Составные условия. Логические операторы"
   ]
  },
  {
   "cell_type": "code",
   "execution_count": null,
   "metadata": {
    "colab": {
     "base_uri": "https://localhost:8080/"
    },
    "executionInfo": {
     "elapsed": 698,
     "status": "ok",
     "timestamp": 1608968280567,
     "user": {
      "displayName": "Максим Белов",
      "photoUrl": "",
      "userId": "02014007940964761986"
     },
     "user_tz": -180
    },
    "id": "xI29AEXu_VYz",
    "outputId": "d8c47052-ac42-42b5-98f1-f9bf0b8d9178"
   },
   "outputs": [
    {
     "name": "stdout",
     "output_type": "stream",
     "text": [
      "False\n"
     ]
    }
   ],
   "source": [
    "# Оператор in проверяет вхождение объекта в коллекцию.\n",
    "lst = [1, 2, 3, 4]\n",
    "print(5 in lst)"
   ]
  },
  {
   "cell_type": "code",
   "execution_count": null,
   "metadata": {
    "colab": {
     "base_uri": "https://localhost:8080/"
    },
    "executionInfo": {
     "elapsed": 692,
     "status": "ok",
     "timestamp": 1608968280567,
     "user": {
      "displayName": "Максим Белов",
      "photoUrl": "",
      "userId": "02014007940964761986"
     },
     "user_tz": -180
    },
    "id": "tDf_LG3l_a0L",
    "outputId": "23c2ce12-7633-48e6-e941-971789ada1f6"
   },
   "outputs": [
    {
     "name": "stdout",
     "output_type": "stream",
     "text": [
      "True\n"
     ]
    }
   ],
   "source": [
    "# Оператор in и not могут быть скомбинированы.\n",
    "lst = [1, 2, 3, 4]\n",
    "print(5 not in lst)"
   ]
  },
  {
   "cell_type": "code",
   "execution_count": null,
   "metadata": {
    "colab": {
     "base_uri": "https://localhost:8080/"
    },
    "executionInfo": {
     "elapsed": 541,
     "status": "ok",
     "timestamp": 1608968303791,
     "user": {
      "displayName": "Максим Белов",
      "photoUrl": "",
      "userId": "02014007940964761986"
     },
     "user_tz": -180
    },
    "id": "pXiflb3n_8Dc",
    "outputId": "dc1d736f-772e-46bb-9fa6-46eaa93c47e0"
   },
   "outputs": [
    {
     "name": "stdout",
     "output_type": "stream",
     "text": [
      "[123]\n"
     ]
    }
   ],
   "source": [
    "# Значение, возвращаемое and.\n",
    "lst = [1, 2, 3]\n",
    "lst1 = [123]\n",
    "print(lst and lst1)"
   ]
  },
  {
   "cell_type": "code",
   "execution_count": null,
   "metadata": {
    "colab": {
     "base_uri": "https://localhost:8080/"
    },
    "executionInfo": {
     "elapsed": 574,
     "status": "ok",
     "timestamp": 1608968311685,
     "user": {
      "displayName": "Максим Белов",
      "photoUrl": "",
      "userId": "02014007940964761986"
     },
     "user_tz": -180
    },
    "id": "eNc_Pppamehh",
    "outputId": "33979149-963b-4852-f62e-d1124dbeeab1"
   },
   "outputs": [
    {
     "name": "stdout",
     "output_type": "stream",
     "text": [
      "[]\n"
     ]
    }
   ],
   "source": [
    "# Значение при ложном and.\n",
    "lst = [1, 2, 3]\n",
    "lst1 = []\n",
    "\n",
    "print(lst and lst1)"
   ]
  },
  {
   "cell_type": "code",
   "execution_count": null,
   "metadata": {
    "colab": {
     "base_uri": "https://localhost:8080/"
    },
    "executionInfo": {
     "elapsed": 500,
     "status": "ok",
     "timestamp": 1608968332356,
     "user": {
      "displayName": "Максим Белов",
      "photoUrl": "",
      "userId": "02014007940964761986"
     },
     "user_tz": -180
    },
    "id": "WgRxKTOXnGcZ",
    "outputId": "92fef9a7-b76d-42c4-a36d-3b3e6bd19b0e"
   },
   "outputs": [
    {
     "name": "stdout",
     "output_type": "stream",
     "text": [
      "[1]\n"
     ]
    }
   ],
   "source": [
    "# Значение, возвращаемое при истинном or.\n",
    "lst = [1]\n",
    "dct = {2:3}\n",
    "print(lst or dct)"
   ]
  },
  {
   "cell_type": "code",
   "execution_count": null,
   "metadata": {
    "colab": {
     "base_uri": "https://localhost:8080/"
    },
    "executionInfo": {
     "elapsed": 506,
     "status": "ok",
     "timestamp": 1608968342523,
     "user": {
      "displayName": "Максим Белов",
      "photoUrl": "",
      "userId": "02014007940964761986"
     },
     "user_tz": -180
    },
    "id": "AVvrSZ0Sm_06",
    "outputId": "5368b058-e8ed-4b57-85db-47ed7456bdce"
   },
   "outputs": [
    {
     "name": "stdout",
     "output_type": "stream",
     "text": [
      "{}\n"
     ]
    }
   ],
   "source": [
    "# Значение, возвращаемое при ложном or.\n",
    "lst = []\n",
    "dct = {}\n",
    "print(lst or dct)"
   ]
  },
  {
   "cell_type": "code",
   "execution_count": null,
   "metadata": {
    "colab": {
     "base_uri": "https://localhost:8080/"
    },
    "executionInfo": {
     "elapsed": 529,
     "status": "ok",
     "timestamp": 1608968372624,
     "user": {
      "displayName": "Максим Белов",
      "photoUrl": "",
      "userId": "02014007940964761986"
     },
     "user_tz": -180
    },
    "id": "vYaZG7rm_0J_",
    "outputId": "08f7c364-fa94-4e58-f8a5-cfebe5c2bdc4"
   },
   "outputs": [
    {
     "name": "stdout",
     "output_type": "stream",
     "text": [
      "f2\n"
     ]
    }
   ],
   "source": [
    "# Проверим, что наши операторы ленивые. \n",
    "def f1():\n",
    "  print('f1')\n",
    "  return True\n",
    "\n",
    "def f2():\n",
    "  print('f2')\n",
    "  return False\n",
    "\n",
    "value = f2() and f1()"
   ]
  },
  {
   "cell_type": "markdown",
   "metadata": {
    "id": "9OBfcx3Je4hp"
   },
   "source": [
    "### Тернарный оператор"
   ]
  },
  {
   "cell_type": "code",
   "execution_count": null,
   "metadata": {
    "id": "A4BWZ4TKws2c"
   },
   "outputs": [],
   "source": [
    "# Проверим, была ли введена непустая строка.\n",
    "val = input('Введите строку:')\n",
    "if val:\n",
    "  print(val)\n",
    "else: \n",
    "  print('Пустая строка')"
   ]
  },
  {
   "cell_type": "code",
   "execution_count": null,
   "metadata": {
    "id": "tZax62fRxB_f"
   },
   "outputs": [],
   "source": [
    "# То же самое, но с тернарным оператором.\n",
    "val = input('Введите строку:')\n",
    "print(val) if val else print('Пустая строка')\n"
   ]
  },
  {
   "cell_type": "code",
   "execution_count": null,
   "metadata": {
    "id": "FCVXZyPGxJ--"
   },
   "outputs": [],
   "source": [
    "# Пример с присвоением результата значению.\n",
    "a = int(input('Введите число: '))\n",
    "odd = True if a % 2 else False\n",
    "print(odd)"
   ]
  },
  {
   "cell_type": "markdown",
   "metadata": {
    "id": "uF0Sr4zdcaUA"
   },
   "source": [
    "## Задачи для закрепления на занятии\n",
    "1. Проверьте делимость числа на 17.\n",
    "2. Если число нечетное, выведите “ого”, если четное “ага”.\n",
    "3. Если число нечетное, выведите “ого”\n",
    "если число четное, **и** отрицательное, выведите “маловато”,\n",
    "если число четное **и** положительное, выведите “нормально”,\n",
    "если число равно нулю, выведите “на нет спроса нет”.\n",
    "4. Переписать оператор `or` через вложенные условные операторы.\n"
   ]
  },
  {
   "cell_type": "markdown",
   "metadata": {
    "id": "nGskTb23tg8B"
   },
   "source": [
    "## Задача для домашнего задания\n",
    "Даны: три стороны треугольника.\n",
    "\n",
    "Требуется: проверить, действительно ли это стороны треугольника. \n",
    "Если стороны определяют треугольник, найти его площадь. \n",
    "Если нет, вывести сообщение о неверных данных.\n"
   ]
  }
 ],
 "metadata": {
  "colab": {
   "collapsed_sections": [],
   "provenance": []
  },
  "kernelspec": {
   "display_name": "Python 3 (ipykernel)",
   "language": "python",
   "name": "python3"
  },
  "language_info": {
   "codemirror_mode": {
    "name": "ipython",
    "version": 3
   },
   "file_extension": ".py",
   "mimetype": "text/x-python",
   "name": "python",
   "nbconvert_exporter": "python",
   "pygments_lexer": "ipython3",
   "version": "3.10.8"
  }
 },
 "nbformat": 4,
 "nbformat_minor": 1
}
