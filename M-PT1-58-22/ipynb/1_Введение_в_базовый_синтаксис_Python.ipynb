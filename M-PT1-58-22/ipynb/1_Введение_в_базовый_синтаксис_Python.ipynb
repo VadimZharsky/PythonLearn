{
 "cells": [
  {
   "cell_type": "markdown",
   "metadata": {
    "id": "XLPi_bOucpTF"
   },
   "source": [
    "# Язык программирования Python"
   ]
  },
  {
   "cell_type": "markdown",
   "metadata": {
    "id": "6vt1PdaU1sfE"
   },
   "source": [
    "## Теоретическая часть"
   ]
  },
  {
   "cell_type": "markdown",
   "metadata": {
    "id": "_fx8OtBZiXqT"
   },
   "source": [
    "### Общая характеристика Python\n",
    "Python - очень популярный в настоящее время язык программирования, причем со временем его популяность только растет. Он нашел свое применение во многих областях разработки программного обеспечения. \n",
    "\n",
    "Давайте рассмотрим основные характеристики Python как языка программирования:\n",
    "- Высокоуровневый.\n",
    "- Общего назначения.\n",
    "- Интерпретируемый.\n",
    "- Объектно-ориентированный.\n",
    "- Императивный.\n",
    "- Строго (сильно) типизированный.\n",
    "- Имеет динамическую типизацию. \n",
    "\n",
    "Давайте рассмотрим эти характеристики по отдельности. \n",
    "### Высокоуровневый\n",
    "Языки программирования делятся на высокоуровневые и низкоуровневые. \n",
    "Низкоуровневые языки - языки, близкие к программированию в машинном коде или приближенных к ним конструкциям (например, байт-кодам). Классика низкоуровневого программирования: Ассемблер. \n",
    "\n",
    "Высокоуровневые языки - соответственно разрабатываются для удобство использования и скорости написания программы. В них применяются определенные абстракции - структуры данных, определенный набор вспомогательных функций и т.д. Это практически все известные вам языки. \n",
    "\n",
    "Стоит отметить, что высокоуровневые языки неоднородны. Некоторые, как **Python**, полностью освобождают программиста от прямого использования ресурсов компьютера, другие, например **С**, позволяют напрямую работать с памятью и даже использовать ассемблерные вставки. \n",
    "\n",
    "### Общего назначения\n",
    "\n",
    "Языки делятся на языки общего назначения (**Python**, **C**, **Pascal**) и специализированные(DSL) (**SQL**, **HTML**). \n",
    "\n",
    "### Интерпретируемый\n",
    "\n",
    "Языки делятся на интерпретируемые(**Python**, **Basic**) и компилируемые (**C**, **Pascal**). В первом случае программа выполняется специальной программой - интерпретатором, \"на лету\", во втором программа сначала преобразуется в понятные компьютеру исполняемые файлы. \n",
    "\n",
    "Стоит отметить, что на самом деле многие современные \"интерпретируемые языки\" являются на самом деле **intermediate representation** языками, которые сначала перегоняют нашу программу в специальные \"байт-коды\", понятные интерпретатору, после чего он их интерпретирует. **Python**, **Java** и многие другие как раз такие языки. \n",
    "Чуть больше об этом можно прочитать тут: https://en.wikipedia.org/wiki/Intermediate_representation\n",
    "\n",
    "### Объектно-ориентированный\n",
    "Языки делятся на процедурные, функциональные и объектно-ониентированные в зависимости от того, с помощью каких констуркций структурируется программа и как происходит решение задачи. \n",
    "\n",
    "В объектно-ориентированных языках работа идет с классами, как типами, и экземплярами классов, как объектов этого типа. Решение задач строится на взаимодействии различных классов. \n",
    "\n",
    "Тем не менее, **Python**, являясь ОО-языком, поддерживает и процедурное программирование и программу можно написать без единого класса. \n",
    "\n",
    "В основе функциональных языков лежит отличная от предыдущих вычислительная система, называемая лямбда-исчисление, которая, тем не менее, эквивалентна машине Тьюринга, о чем доказана соответствующая теорема. \n",
    "\n",
    "### Императивный\n",
    "Языки делятся на императивные - когда мы задаем последовтельность команд для выполнения задачи, и декларативные - когда мы описываем результат, который хотим получить(**SQL**).\n",
    "\n",
    "### Строго (сильно) типизированный\n",
    "Сильно типизированные языки предполагают, что интепретатор не будет неявно приводить типы при попытке выполнения команды. \n",
    "В слабо типизированных языках могут происходить неявные приведения типа. \n",
    "\n",
    "### Динамическая типизация\n",
    "\n",
    "Динамическая типизация предполагает, что в процессе выполнения команды переменная может содержать объекты различных типов.\n",
    "\n",
    "Статическая типизация предполагает, что при задании переменной сразу указывается тип данных, который она может содержать. \n",
    "\n"
   ]
  },
  {
   "cell_type": "markdown",
   "metadata": {
    "id": "hWs8JZxZoRIQ"
   },
   "source": [
    "### Особенности Python\n",
    "\n",
    "Некоторые особенности языка:\n",
    "- Интроспеция.\n",
    "- Автоматическое управление памятью.\n",
    "- Много возможностей в стандартной библиотеке.\n",
    "- Мультиплатформенность.\n",
    "- \"Вшитые\" паттерны проектирования.\n",
    "- Usability - фокус на удобство использования.\n",
    "- Readability - элементы форматирования являются частью синтаксиса. \n",
    "- Интерактивный язык.\n",
    "\n",
    "И еще пара слов:\n",
    "- Создатель Python: Гвидо Ван Россум.\n",
    "- Язык назван в честь труппы Монти Пайтон.\n",
    "\n",
    "\n",
    "Философия Python:\n",
    "```python\n",
    "import this\n",
    "```"
   ]
  },
  {
   "cell_type": "markdown",
   "metadata": {
    "id": "AzSUPnngp8dw"
   },
   "source": [
    "### Основные понятия\n",
    "1. **Переменная** - именованная область памяти, имя котрой можно использовать для получения доступа к данным. Объект (в Python все является объектом), на который ссылается переменная - называется значением переменной. \n",
    "\n",
    "2. **Присвоение переменной** (assignment) - процесс указания переменной объекта, на который она будет ссылаться. \n",
    "В Python присвоение осуществляется с помощью `=`:\n",
    "```python\n",
    "my_variable = 1\n",
    "```\n",
    "Имена переменных могут формироваться из `A`-`Z`, `a`-`z`, `_`, `0`-`9`.\n",
    "Важно: переменная не может начинаться с цифры. \n",
    "Обычные переменные в Python именуются в snake_case. \n",
    "\n",
    "3. **Оператор**, или инструкция - наименьшая часть языка программирования. Это команда или набор команд, которые могут быть выполнены исполнителем. \n",
    "Объекты, над которыми операторы производят действия, называются операндами. В зависимости от их количества операторы делятся на: \n",
    "- Унарные (-1 - унарный минус).\n",
    "- Бинарные (1 + 2 - сложение).\n",
    "- Тернарные (пример чуть позже). Операндов - 3.\n",
    "\n",
    "4. **Выражение** - совокупность переменных, операторов, функций, которую можно вычислить в соответствии с синтаксисом языка. \n",
    "\n"
   ]
  },
  {
   "cell_type": "markdown",
   "metadata": {
    "id": "MghGA0ZSsZ8_"
   },
   "source": [
    "### Типы данных в Python. Числа \n",
    "\n",
    "Все типы данных, встроенные в Python, делятся на:\n",
    "- Неизменяемые(immutable)  - числа, строки, кортежи, boolean.\n",
    "- Изменяемые(mutable) - словари, списки, множества и фактически все остальные типы.\n",
    "\n",
    "\n",
    "Числа в Python бывают 3 типов:\n",
    "- Целые числа (int). \n",
    "- Десятичные числа (float). \n",
    "- Комплексные числа (complex) - представляют собой пару целых чисел, первое из которых называется действительной частью, а второе - мнимой.\n",
    "\n",
    "Операции, производимые над числами:\n",
    "- `+` - сложение двух чисел. \n",
    "- `-` - вычитание. \n",
    "- `*` - умножение.\n",
    "- `**` - возведение в степень.\n",
    "- `/` - истинное деление.\n",
    "- `//` - частное. \n",
    "- `%` - остаток от деления. \n",
    "- `-` - унарный минус.\n",
    "- `abs` - модуль числа. \n",
    "\n",
    "\n"
   ]
  },
  {
   "cell_type": "markdown",
   "metadata": {
    "id": "T5t_SGH7lSUW"
   },
   "source": [
    "### Приоритеты операторов\n",
    "\n",
    "Приоритеты операторов указаны в следующей таблице:\n",
    "\n",
    "|Оператор|Описание|\n",
    "|:-:|:-|\n",
    "|`**`|Возведение в степень|\n",
    "|`+`, `-`, `~`|Унарные +, - и побитовое отрицание|\n",
    "|`*`, `/`, `//`, `%`|Умножение, деление|\n",
    "|`+`, `-`|Сложение, вычитание|\n",
    "|`\\`|Побитовое ИЛИ|\n",
    "|`^`|Побитое исключающее ИЛИ|\n",
    "|`&`|Побитовое И|\n",
    "|`>>`, `<<`|Побитовые сдвиги|\n",
    "|`>`, `>=`, `<`, `<=`, `==`, `!=`| Сравнения|\n",
    "|`=`, `%=`, `/=`, `//=`, `-=`, `+=`, `*=`, `**=`|Присвоения|\n",
    "|`is`, `is not`|Операторы идентичности|\n",
    "|`in`, `not in`|Операторы вхождения|\n",
    "|`not`|Логическое отрицание|\n",
    "|`and`|Логическое И|\n",
    "|`or`|Логическое ИЛИ|\n",
    "\n",
    "Чем выше в таблице находится оператор, тем выше его приоритет. Операторы, расположенные на одной строке имеют одинаковый приоритет. "
   ]
  },
  {
   "cell_type": "markdown",
   "metadata": {
    "id": "6tUHLeAYy-N8"
   },
   "source": [
    "### Дополнительная информация\n",
    "PEP - Python Enhancement Proposals.\n",
    "\n",
    "PEP-8 - набор правил как стоит писать код. \n",
    "\n",
    "Документация:\n",
    "- Python Official Website: http://www.python.org/.\n",
    "- Python Documentation Website: www.python.org/doc/.\n",
    "\n",
    "Литература:\n",
    "- М.Лутц “Изучаем Python” 4-e издание.\n",
    "- Бизли Д. “Python. Подробный справочник”\n",
    "\n",
    "Линукс.\n",
    "- Брайан Уорд. “Внутреннее устройтво Linux”.\n",
    "\n",
    "Вопрос можно задавать тут:\n",
    "- www.google.com.\n",
    "- https://stackoverflow.com."
   ]
  },
  {
   "cell_type": "markdown",
   "metadata": {
    "id": "ZyiJv4psylA1"
   },
   "source": [
    "## Code Snippets"
   ]
  },
  {
   "cell_type": "code",
   "execution_count": null,
   "metadata": {
    "colab": {
     "base_uri": "https://localhost:8080/"
    },
    "executionInfo": {
     "elapsed": 1302,
     "status": "ok",
     "timestamp": 1611039577734,
     "user": {
      "displayName": "Максим Белов",
      "photoUrl": "",
      "userId": "02014007940964761986"
     },
     "user_tz": -180
    },
    "id": "i5q0nBGp2Bfz",
    "outputId": "f8899c71-eb62-4d52-8abf-51d9c7fbed0c"
   },
   "outputs": [
    {
     "name": "stdout",
     "output_type": "stream",
     "text": [
      "1 1\n"
     ]
    }
   ],
   "source": [
    "# Присвоение переменных.\n",
    "a = 1\n",
    "b = a\n",
    "print(a, b)"
   ]
  },
  {
   "cell_type": "code",
   "execution_count": null,
   "metadata": {
    "colab": {
     "base_uri": "https://localhost:8080/"
    },
    "executionInfo": {
     "elapsed": 728,
     "status": "ok",
     "timestamp": 1611039615068,
     "user": {
      "displayName": "Максим Белов",
      "photoUrl": "",
      "userId": "02014007940964761986"
     },
     "user_tz": -180
    },
    "id": "kQRLyi6OcoOy",
    "outputId": "2b33cfa4-2859-4d1e-a6bc-15dcd01075aa"
   },
   "outputs": [
    {
     "name": "stdout",
     "output_type": "stream",
     "text": [
      "2\n"
     ]
    }
   ],
   "source": [
    "# Переопределение переменной.\n",
    "a = 1\n",
    "a = a + 1\n",
    "print(a)"
   ]
  },
  {
   "cell_type": "code",
   "execution_count": null,
   "metadata": {
    "colab": {
     "base_uri": "https://localhost:8080/"
    },
    "executionInfo": {
     "elapsed": 1555,
     "status": "ok",
     "timestamp": 1611039644956,
     "user": {
      "displayName": "Максим Белов",
      "photoUrl": "",
      "userId": "02014007940964761986"
     },
     "user_tz": -180
    },
    "id": "I7m-0S0U2y5q",
    "outputId": "abb5ad33-0467-49f4-fd8d-8463c566fe2a"
   },
   "outputs": [
    {
     "name": "stdout",
     "output_type": "stream",
     "text": [
      "1 <class 'int'>\n",
      "2.0 <class 'float'>\n"
     ]
    }
   ],
   "source": [
    "# Пример динамической типизации.\n",
    "a = 1\n",
    "print(a, type(a))\n",
    "a = 2.0\n",
    "print(a, type(a))"
   ]
  },
  {
   "cell_type": "code",
   "execution_count": null,
   "metadata": {
    "colab": {
     "base_uri": "https://localhost:8080/",
     "height": 201
    },
    "executionInfo": {
     "elapsed": 822,
     "status": "error",
     "timestamp": 1611039657223,
     "user": {
      "displayName": "Максим Белов",
      "photoUrl": "",
      "userId": "02014007940964761986"
     },
     "user_tz": -180
    },
    "id": "utHcIvfs3AIi",
    "outputId": "7a5ad0c7-9511-4466-b548-ef16d9ad59c5"
   },
   "outputs": [
    {
     "ename": "TypeError",
     "evalue": "ignored",
     "output_type": "error",
     "traceback": [
      "\u001b[0;31m---------------------------------------------------------------------------\u001b[0m",
      "\u001b[0;31mTypeError\u001b[0m                                 Traceback (most recent call last)",
      "\u001b[0;32m<ipython-input-8-65c4944a1d0f>\u001b[0m in \u001b[0;36m<module>\u001b[0;34m()\u001b[0m\n\u001b[1;32m      2\u001b[0m \u001b[0ma\u001b[0m \u001b[0;34m=\u001b[0m \u001b[0;36m1\u001b[0m\u001b[0;34m\u001b[0m\u001b[0;34m\u001b[0m\u001b[0m\n\u001b[1;32m      3\u001b[0m \u001b[0mb\u001b[0m \u001b[0;34m=\u001b[0m \u001b[0;34m'23'\u001b[0m  \u001b[0;31m# это строка\u001b[0m\u001b[0;34m\u001b[0m\u001b[0;34m\u001b[0m\u001b[0m\n\u001b[0;32m----> 4\u001b[0;31m \u001b[0mprint\u001b[0m\u001b[0;34m(\u001b[0m\u001b[0ma\u001b[0m\u001b[0;34m+\u001b[0m\u001b[0mb\u001b[0m\u001b[0;34m)\u001b[0m\u001b[0;34m\u001b[0m\u001b[0;34m\u001b[0m\u001b[0m\n\u001b[0m",
      "\u001b[0;31mTypeError\u001b[0m: unsupported operand type(s) for +: 'int' and 'str'"
     ]
    }
   ],
   "source": [
    "# Пример сильной типизации.\n",
    "a = 1\n",
    "b = '23'  # это строка\n",
    "print(a+b)"
   ]
  },
  {
   "cell_type": "markdown",
   "metadata": {
    "id": "Fnr84nab3cY3"
   },
   "source": [
    "### Работа с числами"
   ]
  },
  {
   "cell_type": "code",
   "execution_count": null,
   "metadata": {
    "colab": {
     "base_uri": "https://localhost:8080/"
    },
    "executionInfo": {
     "elapsed": 747,
     "status": "ok",
     "timestamp": 1611039699143,
     "user": {
      "displayName": "Максим Белов",
      "photoUrl": "",
      "userId": "02014007940964761986"
     },
     "user_tz": -180
    },
    "id": "e0XKGpfu3cBT",
    "outputId": "6204df5b-219e-4b9b-a10a-05ae064f27eb"
   },
   "outputs": [
    {
     "name": "stdout",
     "output_type": "stream",
     "text": [
      "-1\n"
     ]
    }
   ],
   "source": [
    "# Унарный минус.\n",
    "a = 1\n",
    "a = -a\n",
    "print(a)"
   ]
  },
  {
   "cell_type": "code",
   "execution_count": null,
   "metadata": {
    "colab": {
     "base_uri": "https://localhost:8080/"
    },
    "executionInfo": {
     "elapsed": 762,
     "status": "ok",
     "timestamp": 1611039729501,
     "user": {
      "displayName": "Максим Белов",
      "photoUrl": "",
      "userId": "02014007940964761986"
     },
     "user_tz": -180
    },
    "id": "s2f-qcIb3kdD",
    "outputId": "3884d263-f0ad-4ebb-cd37-aef1f288cb60"
   },
   "outputs": [
    {
     "name": "stdout",
     "output_type": "stream",
     "text": [
      "3\n",
      "-1\n",
      "2\n",
      "1\n"
     ]
    }
   ],
   "source": [
    "# Арифметические операции.\n",
    "a = 1\n",
    "print(a + 2)\n",
    "print(a - 2)\n",
    "print(a * 2)\n",
    "print(a)"
   ]
  },
  {
   "cell_type": "code",
   "execution_count": null,
   "metadata": {
    "colab": {
     "base_uri": "https://localhost:8080/"
    },
    "executionInfo": {
     "elapsed": 944,
     "status": "ok",
     "timestamp": 1611039773955,
     "user": {
      "displayName": "Максим Белов",
      "photoUrl": "",
      "userId": "02014007940964761986"
     },
     "user_tz": -180
    },
    "id": "MscApyXO3uz6",
    "outputId": "2a989ab6-75d8-4a4b-a2fd-9dbeca96c61f"
   },
   "outputs": [
    {
     "name": "stdout",
     "output_type": "stream",
     "text": [
      "Истинное деление: 3.3333333333333335\n",
      "Частное: 3\n",
      "Остаток: 1\n"
     ]
    }
   ],
   "source": [
    "# Деление.\n",
    "a = 10\n",
    "b = 3\n",
    "print(\"Истинное деление:\", a / b)\n",
    "print(\"Частное:\", a // b)\n",
    "print(\"Остаток:\", a % b)"
   ]
  },
  {
   "cell_type": "code",
   "execution_count": null,
   "metadata": {
    "colab": {
     "base_uri": "https://localhost:8080/"
    },
    "executionInfo": {
     "elapsed": 1364,
     "status": "ok",
     "timestamp": 1611039780388,
     "user": {
      "displayName": "Максим Белов",
      "photoUrl": "",
      "userId": "02014007940964761986"
     },
     "user_tz": -180
    },
    "id": "-1ws1F3Q4KcK",
    "outputId": "00aa54a2-487d-4c60-9e33-ca9bcd5f12b2"
   },
   "outputs": [
    {
     "name": "stdout",
     "output_type": "stream",
     "text": [
      "2\n",
      "-2\n",
      "-1\n"
     ]
    }
   ],
   "source": [
    "# Остаток может быть от 0 до делителя.\n",
    "print(-10 % 3)\n",
    "print(10 % -3)\n",
    "print(-10 % -3)"
   ]
  },
  {
   "cell_type": "code",
   "execution_count": null,
   "metadata": {
    "colab": {
     "base_uri": "https://localhost:8080/"
    },
    "executionInfo": {
     "elapsed": 840,
     "status": "ok",
     "timestamp": 1611040287362,
     "user": {
      "displayName": "Максим Белов",
      "photoUrl": "",
      "userId": "02014007940964761986"
     },
     "user_tz": -180
    },
    "id": "zjK3A5Wf4goy",
    "outputId": "88b57e69-5bbf-4fb8-8d2b-f7cc63f28d9e"
   },
   "outputs": [
    {
     "name": "stdout",
     "output_type": "stream",
     "text": [
      "25\n",
      "3\n"
     ]
    }
   ],
   "source": [
    "# Другие операции.\n",
    "print(5 ** 2)\n",
    "print(abs(-3))\n"
   ]
  },
  {
   "cell_type": "code",
   "execution_count": null,
   "metadata": {
    "colab": {
     "base_uri": "https://localhost:8080/"
    },
    "executionInfo": {
     "elapsed": 754,
     "status": "ok",
     "timestamp": 1611040289866,
     "user": {
      "displayName": "Максим Белов",
      "photoUrl": "",
      "userId": "02014007940964761986"
     },
     "user_tz": -180
    },
    "id": "N2OHlPQj4tXi",
    "outputId": "321d0796-e173-4494-d248-c05e30bfd4ab"
   },
   "outputs": [
    {
     "name": "stdout",
     "output_type": "stream",
     "text": [
      "The Zen of Python, by Tim Peters\n",
      "\n",
      "Beautiful is better than ugly.\n",
      "Explicit is better than implicit.\n",
      "Simple is better than complex.\n",
      "Complex is better than complicated.\n",
      "Flat is better than nested.\n",
      "Sparse is better than dense.\n",
      "Readability counts.\n",
      "Special cases aren't special enough to break the rules.\n",
      "Although practicality beats purity.\n",
      "Errors should never pass silently.\n",
      "Unless explicitly silenced.\n",
      "In the face of ambiguity, refuse the temptation to guess.\n",
      "There should be one-- and preferably only one --obvious way to do it.\n",
      "Although that way may not be obvious at first unless you're Dutch.\n",
      "Now is better than never.\n",
      "Although never is often better than *right* now.\n",
      "If the implementation is hard to explain, it's a bad idea.\n",
      "If the implementation is easy to explain, it may be a good idea.\n",
      "Namespaces are one honking great idea -- let's do more of those!\n"
     ]
    }
   ],
   "source": [
    "import this"
   ]
  },
  {
   "cell_type": "markdown",
   "metadata": {
    "id": "H4mq-uCucof4"
   },
   "source": [
    "## Задача для домашней работы\n",
    "Напишите программу, которая считает общую цену. Вводится M рублей и N копеек цена, а также количество S товара Посчитайте общую цену в рублях и копейках за L товаров. "
   ]
  }
 ],
 "metadata": {
  "colab": {
   "collapsed_sections": [],
   "provenance": []
  },
  "kernelspec": {
   "display_name": "Python 3 (ipykernel)",
   "language": "python",
   "name": "python3"
  },
  "language_info": {
   "codemirror_mode": {
    "name": "ipython",
    "version": 3
   },
   "file_extension": ".py",
   "mimetype": "text/x-python",
   "name": "python",
   "nbconvert_exporter": "python",
   "pygments_lexer": "ipython3",
   "version": "3.10.8"
  }
 },
 "nbformat": 4,
 "nbformat_minor": 1
}
